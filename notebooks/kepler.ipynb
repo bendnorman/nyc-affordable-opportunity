{
 "cells": [
  {
   "cell_type": "code",
   "execution_count": 31,
   "metadata": {},
   "outputs": [],
   "source": [
    "import geopandas as gpd\n",
    "\n",
    "opatlas = gpd.read_file(\"/work/data/opatlas_ny.geojson\").set_geometry(\"geometry\")"
   ]
  },
  {
   "cell_type": "code",
   "execution_count": 32,
   "metadata": {},
   "outputs": [
    {
     "name": "stdout",
     "output_type": "stream",
     "text": [
      "<class 'geopandas.geodataframe.GeoDataFrame'>\n",
      "RangeIndex: 2089 entries, 0 to 2088\n",
      "Data columns (total 4 columns):\n",
      " #   Column            Non-Null Count  Dtype   \n",
      "---  ------            --------------  -----   \n",
      " 0   geoid             2089 non-null   object  \n",
      " 1   household_income  2089 non-null   float64 \n",
      " 2   ranking           2089 non-null   object  \n",
      " 3   geometry          2089 non-null   geometry\n",
      "dtypes: float64(1), geometry(1), object(2)\n",
      "memory usage: 65.4+ KB\n"
     ]
    }
   ],
   "source": [
    "opatlas.info()"
   ]
  },
  {
   "cell_type": "code",
   "execution_count": 33,
   "metadata": {},
   "outputs": [
    {
     "data": {
      "text/html": [
       "<div>\n",
       "<style scoped>\n",
       "    .dataframe tbody tr th:only-of-type {\n",
       "        vertical-align: middle;\n",
       "    }\n",
       "\n",
       "    .dataframe tbody tr th {\n",
       "        vertical-align: top;\n",
       "    }\n",
       "\n",
       "    .dataframe thead th {\n",
       "        text-align: right;\n",
       "    }\n",
       "</style>\n",
       "<table border=\"1\" class=\"dataframe\">\n",
       "  <thead>\n",
       "    <tr style=\"text-align: right;\">\n",
       "      <th></th>\n",
       "      <th>geoid</th>\n",
       "      <th>household_income</th>\n",
       "      <th>ranking</th>\n",
       "      <th>geometry</th>\n",
       "    </tr>\n",
       "  </thead>\n",
       "  <tbody>\n",
       "    <tr>\n",
       "      <th>0</th>\n",
       "      <td>36047080800</td>\n",
       "      <td>72670.0</td>\n",
       "      <td>very high</td>\n",
       "      <td>MULTIPOLYGON (((-73.93686 40.65794, -73.93633 ...</td>\n",
       "    </tr>\n",
       "    <tr>\n",
       "      <th>1</th>\n",
       "      <td>36081114100</td>\n",
       "      <td>71410.0</td>\n",
       "      <td>very high</td>\n",
       "      <td>MULTIPOLYGON (((-73.79566 40.77304, -73.79522 ...</td>\n",
       "    </tr>\n",
       "    <tr>\n",
       "      <th>2</th>\n",
       "      <td>36047000301</td>\n",
       "      <td>65260.0</td>\n",
       "      <td>very high</td>\n",
       "      <td>MULTIPOLYGON (((-73.99429 40.69854, -73.99460 ...</td>\n",
       "    </tr>\n",
       "    <tr>\n",
       "      <th>3</th>\n",
       "      <td>36047004400</td>\n",
       "      <td>65049.0</td>\n",
       "      <td>very high</td>\n",
       "      <td>MULTIPOLYGON (((-74.03316 40.63273, -74.03047 ...</td>\n",
       "    </tr>\n",
       "    <tr>\n",
       "      <th>4</th>\n",
       "      <td>36081099705</td>\n",
       "      <td>64885.0</td>\n",
       "      <td>very high</td>\n",
       "      <td>MULTIPOLYGON (((-73.76696 40.77990, -73.76689 ...</td>\n",
       "    </tr>\n",
       "  </tbody>\n",
       "</table>\n",
       "</div>"
      ],
      "text/plain": [
       "         geoid  household_income    ranking  \\\n",
       "0  36047080800           72670.0  very high   \n",
       "1  36081114100           71410.0  very high   \n",
       "2  36047000301           65260.0  very high   \n",
       "3  36047004400           65049.0  very high   \n",
       "4  36081099705           64885.0  very high   \n",
       "\n",
       "                                            geometry  \n",
       "0  MULTIPOLYGON (((-73.93686 40.65794, -73.93633 ...  \n",
       "1  MULTIPOLYGON (((-73.79566 40.77304, -73.79522 ...  \n",
       "2  MULTIPOLYGON (((-73.99429 40.69854, -73.99460 ...  \n",
       "3  MULTIPOLYGON (((-74.03316 40.63273, -74.03047 ...  \n",
       "4  MULTIPOLYGON (((-73.76696 40.77990, -73.76689 ...  "
      ]
     },
     "execution_count": 33,
     "metadata": {},
     "output_type": "execute_result"
    }
   ],
   "source": [
    "opatlas.head()"
   ]
  },
  {
   "cell_type": "markdown",
   "metadata": {},
   "source": [
    "## Load affordable unit data"
   ]
  },
  {
   "cell_type": "code",
   "execution_count": 34,
   "metadata": {},
   "outputs": [
    {
     "name": "stdout",
     "output_type": "stream",
     "text": [
      "<class 'geopandas.geodataframe.GeoDataFrame'>\n",
      "RangeIndex: 3637 entries, 0 to 3636\n",
      "Data columns (total 47 columns):\n",
      " #   Column                              Non-Null Count  Dtype   \n",
      "---  ------                              --------------  -----   \n",
      " 0   Project ID                          3637 non-null   int64   \n",
      " 1   Project Name                        3637 non-null   object  \n",
      " 2   Program Group                       3637 non-null   object  \n",
      " 3   Project Start Date                  3637 non-null   object  \n",
      " 4   Project Completion Date             2395 non-null   object  \n",
      " 5   Building ID                         3637 non-null   float64 \n",
      " 6   Number                              3637 non-null   object  \n",
      " 7   Street                              3637 non-null   object  \n",
      " 8   Borough                             3637 non-null   object  \n",
      " 9   Postcode                            3637 non-null   float64 \n",
      " 10  BBL                                 3577 non-null   float64 \n",
      " 11  BIN                                 2445 non-null   float64 \n",
      " 12  Community Board                     3637 non-null   object  \n",
      " 13  Council District                    3637 non-null   float64 \n",
      " 14  Census Tract                        3637 non-null   object  \n",
      " 15  NTA - Neighborhood Tabulation Area  3637 non-null   object  \n",
      " 16  Latitude                            3637 non-null   float64 \n",
      " 17  Longitude                           3637 non-null   float64 \n",
      " 18  Latitude (Internal)                 3571 non-null   float64 \n",
      " 19  Longitude (Internal)                3571 non-null   float64 \n",
      " 20  Building Completion Date            2553 non-null   object  \n",
      " 21  Reporting Construction Type         3637 non-null   object  \n",
      " 22  Extended Affordability Only         3637 non-null   object  \n",
      " 23  Prevailing Wage Status              3637 non-null   object  \n",
      " 24  Extremely Low Income Units          3637 non-null   int64   \n",
      " 25  Very Low Income Units               3637 non-null   int64   \n",
      " 26  Low Income Units                    3637 non-null   int64   \n",
      " 27  Moderate Income Units               3637 non-null   int64   \n",
      " 28  Middle Income Units                 3637 non-null   int64   \n",
      " 29  Other Income Units                  3637 non-null   int64   \n",
      " 30  Studio Units                        3637 non-null   int64   \n",
      " 31  1-BR Units                          3637 non-null   int64   \n",
      " 32  2-BR Units                          3637 non-null   int64   \n",
      " 33  3-BR Units                          3637 non-null   int64   \n",
      " 34  4-BR Units                          3637 non-null   int64   \n",
      " 35  5-BR Units                          3637 non-null   int64   \n",
      " 36  6-BR+ Units                         3637 non-null   int64   \n",
      " 37  Unknown-BR Units                    3637 non-null   int64   \n",
      " 38  Counted Rental Units                3637 non-null   int64   \n",
      " 39  Counted Homeownership Units         3637 non-null   int64   \n",
      " 40  All Counted Units                   3637 non-null   int64   \n",
      " 41  Total Units                         3637 non-null   int64   \n",
      " 42  index_right                         3511 non-null   float64 \n",
      " 43  geoid                               3511 non-null   object  \n",
      " 44  household_income                    3511 non-null   float64 \n",
      " 45  ranking                             3511 non-null   object  \n",
      " 46  geometry                            3637 non-null   geometry\n",
      "dtypes: float64(11), geometry(1), int64(19), object(16)\n",
      "memory usage: 1.3+ MB\n"
     ]
    }
   ],
   "source": [
    "import geopandas as gpd\n",
    "\n",
    "units = gpd.read_file(\"/work/data/affordable_units.geojson\")\n",
    "units.info()"
   ]
  },
  {
   "cell_type": "code",
   "execution_count": 35,
   "metadata": {},
   "outputs": [
    {
     "data": {
      "text/html": [
       "<div>\n",
       "<style scoped>\n",
       "    .dataframe tbody tr th:only-of-type {\n",
       "        vertical-align: middle;\n",
       "    }\n",
       "\n",
       "    .dataframe tbody tr th {\n",
       "        vertical-align: top;\n",
       "    }\n",
       "\n",
       "    .dataframe thead th {\n",
       "        text-align: right;\n",
       "    }\n",
       "</style>\n",
       "<table border=\"1\" class=\"dataframe\">\n",
       "  <thead>\n",
       "    <tr style=\"text-align: right;\">\n",
       "      <th></th>\n",
       "      <th>Project ID</th>\n",
       "      <th>Project Name</th>\n",
       "      <th>Program Group</th>\n",
       "      <th>Project Start Date</th>\n",
       "      <th>Project Completion Date</th>\n",
       "      <th>Building ID</th>\n",
       "      <th>Number</th>\n",
       "      <th>Street</th>\n",
       "      <th>Borough</th>\n",
       "      <th>Postcode</th>\n",
       "      <th>...</th>\n",
       "      <th>Unknown-BR Units</th>\n",
       "      <th>Counted Rental Units</th>\n",
       "      <th>Counted Homeownership Units</th>\n",
       "      <th>All Counted Units</th>\n",
       "      <th>Total Units</th>\n",
       "      <th>index_right</th>\n",
       "      <th>geoid</th>\n",
       "      <th>household_income</th>\n",
       "      <th>ranking</th>\n",
       "      <th>geometry</th>\n",
       "    </tr>\n",
       "  </thead>\n",
       "  <tbody>\n",
       "    <tr>\n",
       "      <th>0</th>\n",
       "      <td>65503</td>\n",
       "      <td>LIC RAMPS</td>\n",
       "      <td>Multifamily Incentives Program</td>\n",
       "      <td>06/30/2020</td>\n",
       "      <td>None</td>\n",
       "      <td>991157.0</td>\n",
       "      <td>27-01</td>\n",
       "      <td>JACKSON AVENUE</td>\n",
       "      <td>Queens</td>\n",
       "      <td>11101.0</td>\n",
       "      <td>...</td>\n",
       "      <td>0</td>\n",
       "      <td>50</td>\n",
       "      <td>0</td>\n",
       "      <td>50</td>\n",
       "      <td>164</td>\n",
       "      <td>1385.0</td>\n",
       "      <td>36081001900</td>\n",
       "      <td>31158.0</td>\n",
       "      <td>low</td>\n",
       "      <td>POINT (-73.94051 40.74779)</td>\n",
       "    </tr>\n",
       "    <tr>\n",
       "      <th>1</th>\n",
       "      <td>65503</td>\n",
       "      <td>LIC RAMPS</td>\n",
       "      <td>Multifamily Incentives Program</td>\n",
       "      <td>06/30/2020</td>\n",
       "      <td>None</td>\n",
       "      <td>991158.0</td>\n",
       "      <td>26-32</td>\n",
       "      <td>JACKSON AVENUE</td>\n",
       "      <td>Queens</td>\n",
       "      <td>11101.0</td>\n",
       "      <td>...</td>\n",
       "      <td>0</td>\n",
       "      <td>106</td>\n",
       "      <td>0</td>\n",
       "      <td>106</td>\n",
       "      <td>348</td>\n",
       "      <td>1385.0</td>\n",
       "      <td>36081001900</td>\n",
       "      <td>31158.0</td>\n",
       "      <td>low</td>\n",
       "      <td>POINT (-73.94113 40.74755)</td>\n",
       "    </tr>\n",
       "    <tr>\n",
       "      <th>2</th>\n",
       "      <td>70016</td>\n",
       "      <td>1119 BROADWAY</td>\n",
       "      <td>Multifamily Incentives Program</td>\n",
       "      <td>06/30/2020</td>\n",
       "      <td>None</td>\n",
       "      <td>213679.0</td>\n",
       "      <td>1119</td>\n",
       "      <td>BROADWAY</td>\n",
       "      <td>Brooklyn</td>\n",
       "      <td>11221.0</td>\n",
       "      <td>...</td>\n",
       "      <td>0</td>\n",
       "      <td>3</td>\n",
       "      <td>0</td>\n",
       "      <td>3</td>\n",
       "      <td>10</td>\n",
       "      <td>1154.0</td>\n",
       "      <td>36047039300</td>\n",
       "      <td>34151.0</td>\n",
       "      <td>moderate</td>\n",
       "      <td>POINT (-73.92949 40.69375)</td>\n",
       "    </tr>\n",
       "    <tr>\n",
       "      <th>3</th>\n",
       "      <td>70017</td>\n",
       "      <td>639 FOSTER AVENUE</td>\n",
       "      <td>Multifamily Incentives Program</td>\n",
       "      <td>06/30/2020</td>\n",
       "      <td>None</td>\n",
       "      <td>991282.0</td>\n",
       "      <td>639</td>\n",
       "      <td>FOSTER AVENUE</td>\n",
       "      <td>Brooklyn</td>\n",
       "      <td>11230.0</td>\n",
       "      <td>...</td>\n",
       "      <td>0</td>\n",
       "      <td>7</td>\n",
       "      <td>0</td>\n",
       "      <td>7</td>\n",
       "      <td>22</td>\n",
       "      <td>674.0</td>\n",
       "      <td>36047048200</td>\n",
       "      <td>41874.0</td>\n",
       "      <td>high</td>\n",
       "      <td>POINT (-73.97014 40.63068)</td>\n",
       "    </tr>\n",
       "    <tr>\n",
       "      <th>4</th>\n",
       "      <td>70018</td>\n",
       "      <td>THE STRAND</td>\n",
       "      <td>Multifamily Incentives Program</td>\n",
       "      <td>06/30/2020</td>\n",
       "      <td>None</td>\n",
       "      <td>699653.0</td>\n",
       "      <td>18-68</td>\n",
       "      <td>TROUTMAN STREET</td>\n",
       "      <td>Queens</td>\n",
       "      <td>11385.0</td>\n",
       "      <td>...</td>\n",
       "      <td>0</td>\n",
       "      <td>40</td>\n",
       "      <td>0</td>\n",
       "      <td>40</td>\n",
       "      <td>132</td>\n",
       "      <td>688.0</td>\n",
       "      <td>36081053900</td>\n",
       "      <td>41679.0</td>\n",
       "      <td>high</td>\n",
       "      <td>POINT (-73.91818 40.71114)</td>\n",
       "    </tr>\n",
       "  </tbody>\n",
       "</table>\n",
       "<p>5 rows × 47 columns</p>\n",
       "</div>"
      ],
      "text/plain": [
       "   Project ID       Project Name                   Program Group  \\\n",
       "0       65503          LIC RAMPS  Multifamily Incentives Program   \n",
       "1       65503          LIC RAMPS  Multifamily Incentives Program   \n",
       "2       70016      1119 BROADWAY  Multifamily Incentives Program   \n",
       "3       70017  639 FOSTER AVENUE  Multifamily Incentives Program   \n",
       "4       70018         THE STRAND  Multifamily Incentives Program   \n",
       "\n",
       "  Project Start Date Project Completion Date  Building ID Number  \\\n",
       "0         06/30/2020                    None     991157.0  27-01   \n",
       "1         06/30/2020                    None     991158.0  26-32   \n",
       "2         06/30/2020                    None     213679.0   1119   \n",
       "3         06/30/2020                    None     991282.0    639   \n",
       "4         06/30/2020                    None     699653.0  18-68   \n",
       "\n",
       "            Street   Borough  Postcode  ...  Unknown-BR Units  \\\n",
       "0   JACKSON AVENUE    Queens   11101.0  ...                 0   \n",
       "1   JACKSON AVENUE    Queens   11101.0  ...                 0   \n",
       "2         BROADWAY  Brooklyn   11221.0  ...                 0   \n",
       "3    FOSTER AVENUE  Brooklyn   11230.0  ...                 0   \n",
       "4  TROUTMAN STREET    Queens   11385.0  ...                 0   \n",
       "\n",
       "   Counted Rental Units Counted Homeownership Units  All Counted Units  \\\n",
       "0                    50                           0                 50   \n",
       "1                   106                           0                106   \n",
       "2                     3                           0                  3   \n",
       "3                     7                           0                  7   \n",
       "4                    40                           0                 40   \n",
       "\n",
       "  Total Units index_right        geoid  household_income   ranking  \\\n",
       "0         164      1385.0  36081001900           31158.0       low   \n",
       "1         348      1385.0  36081001900           31158.0       low   \n",
       "2          10      1154.0  36047039300           34151.0  moderate   \n",
       "3          22       674.0  36047048200           41874.0      high   \n",
       "4         132       688.0  36081053900           41679.0      high   \n",
       "\n",
       "                     geometry  \n",
       "0  POINT (-73.94051 40.74779)  \n",
       "1  POINT (-73.94113 40.74755)  \n",
       "2  POINT (-73.92949 40.69375)  \n",
       "3  POINT (-73.97014 40.63068)  \n",
       "4  POINT (-73.91818 40.71114)  \n",
       "\n",
       "[5 rows x 47 columns]"
      ]
     },
     "execution_count": 35,
     "metadata": {},
     "output_type": "execute_result"
    }
   ],
   "source": [
    "units.head()"
   ]
  },
  {
   "cell_type": "code",
   "execution_count": 36,
   "metadata": {},
   "outputs": [],
   "source": [
    "config = {'version': 'v1',\n",
    " 'config': {'visState': {'filters': [],\n",
    "   'layers': [{'id': 'z4mox1k',\n",
    "     'type': 'geojson',\n",
    "     'config': {'dataId': 'Affordable Units',\n",
    "      'label': 'Affordable Units',\n",
    "      'color': [33, 42, 31],\n",
    "      'columns': {'geojson': 'geometry'},\n",
    "      'isVisible': True,\n",
    "      'visConfig': {'opacity': 0.8,\n",
    "       'strokeOpacity': 0.8,\n",
    "       'thickness': 0.5,\n",
    "       'strokeColor': None,\n",
    "       'colorRange': {'name': 'Global Warming',\n",
    "        'type': 'sequential',\n",
    "        'category': 'Uber',\n",
    "        'colors': ['#5A1846',\n",
    "         '#900C3F',\n",
    "         '#C70039',\n",
    "         '#E3611C',\n",
    "         '#F1920E',\n",
    "         '#FFC300']},\n",
    "       'strokeColorRange': {'name': 'Global Warming',\n",
    "        'type': 'sequential',\n",
    "        'category': 'Uber',\n",
    "        'colors': ['#5A1846',\n",
    "         '#900C3F',\n",
    "         '#C70039',\n",
    "         '#E3611C',\n",
    "         '#F1920E',\n",
    "         '#FFC300']},\n",
    "       'radius': 2.6,\n",
    "       'sizeRange': [0, 10],\n",
    "       'radiusRange': [0, 50],\n",
    "       'heightRange': [0, 500],\n",
    "       'elevationScale': 5,\n",
    "       'stroked': True,\n",
    "       'filled': True,\n",
    "       'enable3d': False,\n",
    "       'wireframe': False},\n",
    "      'hidden': False,\n",
    "      'textLabel': [{'field': None,\n",
    "        'color': [255, 255, 255],\n",
    "        'size': 18,\n",
    "        'offset': [0, 0],\n",
    "        'anchor': 'start',\n",
    "        'alignment': 'center'}]},\n",
    "     'visualChannels': {'colorField': None,\n",
    "      'colorScale': 'quantile',\n",
    "      'strokeColorField': None,\n",
    "      'strokeColorScale': 'quantile',\n",
    "      'sizeField': None,\n",
    "      'sizeScale': 'linear',\n",
    "      'heightField': None,\n",
    "      'heightScale': 'linear',\n",
    "      'radiusField': None,\n",
    "      'radiusScale': 'linear'}},\n",
    "    {'id': 'hy5ii3',\n",
    "     'type': 'geojson',\n",
    "     'config': {'dataId': 'Tracts',\n",
    "      'label': 'Tracts',\n",
    "      'color': [30, 150, 190],\n",
    "      'columns': {'geojson': 'geometry'},\n",
    "      'isVisible': True,\n",
    "      'visConfig': {'opacity': 0.8,\n",
    "       'strokeOpacity': 0.8,\n",
    "       'thickness': 0.1,\n",
    "       'strokeColor': [45, 29, 16],\n",
    "       'colorRange': {'name': 'ColorBrewer RdYlGn-6',\n",
    "        'type': 'diverging',\n",
    "        'category': 'ColorBrewer',\n",
    "        'colors': ['#d73027',\n",
    "         '#fc8d59',\n",
    "         '#fee08b',\n",
    "         '#d9ef8b',\n",
    "         '#91cf60',\n",
    "         '#1a9850']},\n",
    "       'strokeColorRange': {'name': 'Global Warming',\n",
    "        'type': 'sequential',\n",
    "        'category': 'Uber',\n",
    "        'colors': ['#5A1846',\n",
    "         '#900C3F',\n",
    "         '#C70039',\n",
    "         '#E3611C',\n",
    "         '#F1920E',\n",
    "         '#FFC300']},\n",
    "       'radius': 10,\n",
    "       'sizeRange': [0, 10],\n",
    "       'radiusRange': [0, 50],\n",
    "       'heightRange': [0, 500],\n",
    "       'elevationScale': 5,\n",
    "       'stroked': True,\n",
    "       'filled': True,\n",
    "       'enable3d': False,\n",
    "       'wireframe': False},\n",
    "      'hidden': False,\n",
    "      'textLabel': [{'field': None,\n",
    "        'color': [255, 255, 255],\n",
    "        'size': 18,\n",
    "        'offset': [0, 0],\n",
    "        'anchor': 'start',\n",
    "        'alignment': 'center'}]},\n",
    "     'visualChannels': {'colorField': {'name': 'household_income',\n",
    "       'type': 'integer'},\n",
    "      'colorScale': 'quantile',\n",
    "      'strokeColorField': None,\n",
    "      'strokeColorScale': 'quantile',\n",
    "      'sizeField': None,\n",
    "      'sizeScale': 'linear',\n",
    "      'heightField': None,\n",
    "      'heightScale': 'linear',\n",
    "      'radiusField': None,\n",
    "      'radiusScale': 'linear'}}],\n",
    "   'interactionConfig': {'tooltip': {'fieldsToShow': {'Tracts': [{'name': 'geoid',\n",
    "        'format': None},\n",
    "       {'name': 'household_income', 'format': None},\n",
    "       {'name': 'ranking', 'format': None}],\n",
    "      'Affordable Units': [{'name': 'Project ID', 'format': None},\n",
    "       {'name': 'Project Name', 'format': None},\n",
    "       {'name': 'Program Group', 'format': None},\n",
    "       {'name': 'Project Start Date', 'format': None},\n",
    "       {'name': 'Project Completion Date', 'format': None}]},\n",
    "     'compareMode': False,\n",
    "     'compareType': 'absolute',\n",
    "     'enabled': True},\n",
    "    'brush': {'size': 0.5, 'enabled': False},\n",
    "    'geocoder': {'enabled': False},\n",
    "    'coordinate': {'enabled': False}},\n",
    "   'layerBlending': 'normal',\n",
    "   'splitMaps': [],\n",
    "   'animationConfig': {'currentTime': None, 'speed': 1}},\n",
    "  'mapState': {'bearing': 0,\n",
    "   'dragRotate': False,\n",
    "   'latitude': 40.696149433386886,\n",
    "   'longitude': -74.0110755261806,\n",
    "   'pitch': 0,\n",
    "   'zoom': 9.943268701719875,\n",
    "   'isSplit': False},\n",
    "  'mapStyle': {'styleType': 'dark',\n",
    "   'topLayerGroups': {},\n",
    "   'visibleLayerGroups': {'label': True,\n",
    "    'road': True,\n",
    "    'border': False,\n",
    "    'building': True,\n",
    "    'water': True,\n",
    "    'land': True,\n",
    "    '3d building': False},\n",
    "   'threeDBuildingColor': [9.665468314072013,\n",
    "    17.18305478057247,\n",
    "    31.1442867897876],\n",
    "   'mapStyles': {}}}}"
   ]
  },
  {
   "cell_type": "code",
   "execution_count": 37,
   "metadata": {},
   "outputs": [
    {
     "name": "stdout",
     "output_type": "stream",
     "text": [
      "User Guide: https://docs.kepler.gl/docs/keplergl-jupyter\n"
     ]
    }
   ],
   "source": [
    "import keplergl\n",
    "\n",
    "# w1 = keplergl.KeplerGl(height=500, data={\"Tracts\": opatlas, \"Affordable Units\": units}, config=config)\n",
    "# opatlas.geometry = opatlas.geometry.astype(\"object\")\n",
    "# w1 = keplergl.KeplerGl(height=500, data={\"Tracts\": opatlas.head()}, config=config)\n",
    "w1 = keplergl.KeplerGl(config=config)"
   ]
  },
  {
   "cell_type": "code",
   "execution_count": 38,
   "metadata": {},
   "outputs": [
    {
     "data": {
      "application/vnd.jupyter.widget-view+json": {
       "model_id": "2abbb9ea5abc4b94ac45da6e614d2f66",
       "version_major": 2,
       "version_minor": 0
      },
      "text/plain": [
       "KeplerGl(config={'version': 'v1', 'config': {'visState': {'filters': [], 'layers': [{'id': 'z4mox1k', 'type': …"
      ]
     },
     "metadata": {},
     "output_type": "display_data"
    }
   ],
   "source": [
    "w1"
   ]
  },
  {
   "cell_type": "code",
   "execution_count": 39,
   "metadata": {},
   "outputs": [],
   "source": [
    "w1.add_data(data=opatlas, name=\"Tracts\")\n",
    "w1.add_data(data=units, name=\"Affordable Units\")"
   ]
  },
  {
   "cell_type": "code",
   "execution_count": 40,
   "metadata": {},
   "outputs": [
    {
     "name": "stdout",
     "output_type": "stream",
     "text": [
      "Map saved to index.html!\n"
     ]
    }
   ],
   "source": [
    "w1.save_to_html(file_name='index.html')"
   ]
  },
  {
   "cell_type": "code",
   "execution_count": null,
   "metadata": {},
   "outputs": [],
   "source": []
  },
  {
   "cell_type": "code",
   "execution_count": null,
   "metadata": {},
   "outputs": [],
   "source": [
    "url = 'http://eric.clst.org/assets/wiki/uploads/Stuff/gz_2010_us_040_00_500k.json'\n",
    "country_gdf = geopandas.read_file(url)\n",
    "w1.add_data(data=country_gdf, name=\"state\")"
   ]
  },
  {
   "cell_type": "code",
   "execution_count": null,
   "metadata": {},
   "outputs": [],
   "source": []
  },
  {
   "cell_type": "code",
   "execution_count": 1,
   "metadata": {},
   "outputs": [
    {
     "name": "stdout",
     "output_type": "stream",
     "text": [
      "User Guide: https://docs.kepler.gl/docs/keplergl-jupyter\n"
     ]
    },
    {
     "name": "stderr",
     "output_type": "stream",
     "text": [
      "/opt/conda/lib/python3.8/site-packages/geopandas/_compat.py:106: UserWarning: The Shapely GEOS version (3.8.0-CAPI-1.13.1 ) is incompatible with the GEOS version PyGEOS was compiled with (3.9.0-CAPI-1.16.2). Conversions between both will be slow.\n",
      "  warnings.warn(\n"
     ]
    },
    {
     "data": {
      "application/vnd.jupyter.widget-view+json": {
       "model_id": "8ebd9043dbf4469597708aa0b4fd325d",
       "version_major": 2,
       "version_minor": 0
      },
      "text/plain": [
       "KeplerGl()"
      ]
     },
     "metadata": {},
     "output_type": "display_data"
    }
   ],
   "source": [
    "from keplergl import KeplerGl\n",
    "map_1 = KeplerGl()\n",
    "map_1"
   ]
  },
  {
   "cell_type": "code",
   "execution_count": 3,
   "metadata": {},
   "outputs": [],
   "source": [
    "url = 'http://eric.clst.org/assets/wiki/uploads/Stuff/gz_2010_us_040_00_500k.json'\n",
    "country_gdf = gpd.read_file(url)\n",
    "map_1.add_data(data=country_gdf, name=\"state\")"
   ]
  },
  {
   "cell_type": "code",
   "execution_count": 4,
   "metadata": {},
   "outputs": [
    {
     "name": "stdout",
     "output_type": "stream",
     "text": [
      "Map saved to index.html!\n"
     ]
    }
   ],
   "source": [
    "map_1.save_to_html(file_name='index.html')"
   ]
  },
  {
   "cell_type": "code",
   "execution_count": 5,
   "metadata": {},
   "outputs": [
    {
     "name": "stdout",
     "output_type": "stream",
     "text": [
      "<class 'geopandas.geodataframe.GeoDataFrame'>\n",
      "RangeIndex: 52 entries, 0 to 51\n",
      "Data columns (total 6 columns):\n",
      " #   Column      Non-Null Count  Dtype  \n",
      "---  ------      --------------  -----  \n",
      " 0   GEO_ID      52 non-null     object \n",
      " 1   STATE       52 non-null     object \n",
      " 2   NAME        52 non-null     object \n",
      " 3   LSAD        52 non-null     object \n",
      " 4   CENSUSAREA  52 non-null     float64\n",
      " 5   geometry    52 non-null     object \n",
      "dtypes: float64(1), object(5)\n",
      "memory usage: 2.6+ KB\n"
     ]
    }
   ],
   "source": [
    "country_gdf.info()"
   ]
  },
  {
   "cell_type": "code",
   "execution_count": 6,
   "metadata": {},
   "outputs": [
    {
     "name": "stdout",
     "output_type": "stream",
     "text": [
      "<class 'geopandas.geodataframe.GeoDataFrame'>\n",
      "RangeIndex: 2089 entries, 0 to 2088\n",
      "Data columns (total 4 columns):\n",
      " #   Column            Non-Null Count  Dtype   \n",
      "---  ------            --------------  -----   \n",
      " 0   geoid             2089 non-null   object  \n",
      " 1   household_income  2089 non-null   float64 \n",
      " 2   ranking           2089 non-null   object  \n",
      " 3   geometry          2089 non-null   geometry\n",
      "dtypes: float64(1), geometry(1), object(2)\n",
      "memory usage: 65.4+ KB\n"
     ]
    }
   ],
   "source": [
    "opatlas.info()"
   ]
  },
  {
   "cell_type": "code",
   "execution_count": 7,
   "metadata": {},
   "outputs": [
    {
     "data": {
      "text/plain": [
       "dtype('O')"
      ]
     },
     "execution_count": 7,
     "metadata": {},
     "output_type": "execute_result"
    }
   ],
   "source": [
    "country_gdf.geometry.dtype"
   ]
  },
  {
   "cell_type": "code",
   "execution_count": 9,
   "metadata": {},
   "outputs": [
    {
     "data": {
      "text/plain": [
       "dtype('O')"
      ]
     },
     "execution_count": 9,
     "metadata": {},
     "output_type": "execute_result"
    }
   ],
   "source": [
    "opatlas.geometry.astype(\"O\").dtype"
   ]
  },
  {
   "cell_type": "code",
   "execution_count": null,
   "metadata": {},
   "outputs": [],
   "source": [
    "opatlas_test[]"
   ]
  },
  {
   "cell_type": "code",
   "execution_count": 62,
   "metadata": {},
   "outputs": [
    {
     "data": {
      "text/plain": [
       "0       (POLYGON ((-73.93686392947123 40.6579421706531...\n",
       "1       (POLYGON ((-73.79565702077424 40.7730360862120...\n",
       "2       (POLYGON ((-73.99429211012634 40.6985350800010...\n",
       "3       (POLYGON ((-74.03315548281171 40.6327349737255...\n",
       "4       (POLYGON ((-73.76695800144776 40.7798995811539...\n",
       "                              ...                        \n",
       "2084    (POLYGON ((-73.9344004000943 40.81966778293705...\n",
       "2085    (POLYGON ((-73.91094778957398 40.8136209207373...\n",
       "2086    (POLYGON ((-73.9019821814221 40.66967007119862...\n",
       "2087    (POLYGON ((-73.9104901068166 40.83073737253014...\n",
       "2088    (POLYGON ((-73.99301822153384 40.6974623645668...\n",
       "Name: geometry, Length: 2089, dtype: object"
      ]
     },
     "execution_count": 62,
     "metadata": {},
     "output_type": "execute_result"
    }
   ],
   "source": [
    "opatlas.geometry.astype(\"object\")"
   ]
  },
  {
   "cell_type": "code",
   "execution_count": 59,
   "metadata": {},
   "outputs": [
    {
     "name": "stdout",
     "output_type": "stream",
     "text": [
      "<class 'geopandas.geodataframe.GeoDataFrame'>\n",
      "RangeIndex: 3637 entries, 0 to 3636\n",
      "Data columns (total 47 columns):\n",
      " #   Column                              Non-Null Count  Dtype   \n",
      "---  ------                              --------------  -----   \n",
      " 0   Project ID                          3637 non-null   int64   \n",
      " 1   Project Name                        3637 non-null   object  \n",
      " 2   Program Group                       3637 non-null   object  \n",
      " 3   Project Start Date                  3637 non-null   object  \n",
      " 4   Project Completion Date             2395 non-null   object  \n",
      " 5   Building ID                         3637 non-null   float64 \n",
      " 6   Number                              3637 non-null   object  \n",
      " 7   Street                              3637 non-null   object  \n",
      " 8   Borough                             3637 non-null   object  \n",
      " 9   Postcode                            3637 non-null   float64 \n",
      " 10  BBL                                 3577 non-null   float64 \n",
      " 11  BIN                                 2445 non-null   float64 \n",
      " 12  Community Board                     3637 non-null   object  \n",
      " 13  Council District                    3637 non-null   float64 \n",
      " 14  Census Tract                        3637 non-null   object  \n",
      " 15  NTA - Neighborhood Tabulation Area  3637 non-null   object  \n",
      " 16  Latitude                            3637 non-null   float64 \n",
      " 17  Longitude                           3637 non-null   float64 \n",
      " 18  Latitude (Internal)                 3571 non-null   float64 \n",
      " 19  Longitude (Internal)                3571 non-null   float64 \n",
      " 20  Building Completion Date            2553 non-null   object  \n",
      " 21  Reporting Construction Type         3637 non-null   object  \n",
      " 22  Extended Affordability Only         3637 non-null   object  \n",
      " 23  Prevailing Wage Status              3637 non-null   object  \n",
      " 24  Extremely Low Income Units          3637 non-null   int64   \n",
      " 25  Very Low Income Units               3637 non-null   int64   \n",
      " 26  Low Income Units                    3637 non-null   int64   \n",
      " 27  Moderate Income Units               3637 non-null   int64   \n",
      " 28  Middle Income Units                 3637 non-null   int64   \n",
      " 29  Other Income Units                  3637 non-null   int64   \n",
      " 30  Studio Units                        3637 non-null   int64   \n",
      " 31  1-BR Units                          3637 non-null   int64   \n",
      " 32  2-BR Units                          3637 non-null   int64   \n",
      " 33  3-BR Units                          3637 non-null   int64   \n",
      " 34  4-BR Units                          3637 non-null   int64   \n",
      " 35  5-BR Units                          3637 non-null   int64   \n",
      " 36  6-BR+ Units                         3637 non-null   int64   \n",
      " 37  Unknown-BR Units                    3637 non-null   int64   \n",
      " 38  Counted Rental Units                3637 non-null   int64   \n",
      " 39  Counted Homeownership Units         3637 non-null   int64   \n",
      " 40  All Counted Units                   3637 non-null   int64   \n",
      " 41  Total Units                         3637 non-null   int64   \n",
      " 42  index_right                         3511 non-null   float64 \n",
      " 43  geoid                               3511 non-null   object  \n",
      " 44  household_income                    3511 non-null   float64 \n",
      " 45  ranking                             3511 non-null   object  \n",
      " 46  geometry                            3637 non-null   geometry\n",
      "dtypes: float64(11), geometry(1), int64(19), object(16)\n",
      "memory usage: 1.3+ MB\n"
     ]
    }
   ],
   "source": [
    "units.info()"
   ]
  },
  {
   "cell_type": "code",
   "execution_count": null,
   "metadata": {},
   "outputs": [],
   "source": []
  }
 ],
 "metadata": {
  "kernelspec": {
   "display_name": "Python 3",
   "language": "python",
   "name": "python3"
  },
  "language_info": {
   "codemirror_mode": {
    "name": "ipython",
    "version": 3
   },
   "file_extension": ".py",
   "mimetype": "text/x-python",
   "name": "python",
   "nbconvert_exporter": "python",
   "pygments_lexer": "ipython3",
   "version": "3.8.5"
  }
 },
 "nbformat": 4,
 "nbformat_minor": 4
}

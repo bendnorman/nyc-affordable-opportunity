{
 "cells": [
  {
   "cell_type": "markdown",
   "metadata": {},
   "source": [
    "# Purpose\n",
    "This notebook exports a table of NYC tract geometry and household income mobility data from the [Opportunity Atlas](https://www.opportunityatlas.org/). The tract geometry is from [Open Data](https://data.cityofnewyork.us/City-Government/2010-Census-Tracts/fxpq-c8ku)."
   ]
  },
  {
   "cell_type": "code",
   "execution_count": 1,
   "metadata": {},
   "outputs": [
    {
     "name": "stderr",
     "output_type": "stream",
     "text": [
      "/opt/conda/lib/python3.8/site-packages/geopandas/_compat.py:84: UserWarning: The Shapely GEOS version (3.8.0-CAPI-1.13.1 ) is incompatible with the GEOS version PyGEOS was compiled with (3.8.1-CAPI-1.13.3). Conversions between both will be slow.\n",
      "  warnings.warn(\n"
     ]
    }
   ],
   "source": [
    "import pandas as pd\n",
    "import geopandas as gpd\n",
    "\n",
    "%matplotlib inline\n",
    "%config InlineBackend.figure_format='retina'"
   ]
  },
  {
   "cell_type": "markdown",
   "metadata": {},
   "source": [
    "## Load in Income mobility data for NYC"
   ]
  },
  {
   "cell_type": "code",
   "execution_count": 2,
   "metadata": {},
   "outputs": [
    {
     "data": {
      "text/html": [
       "<div>\n",
       "<style scoped>\n",
       "    .dataframe tbody tr th:only-of-type {\n",
       "        vertical-align: middle;\n",
       "    }\n",
       "\n",
       "    .dataframe tbody tr th {\n",
       "        vertical-align: top;\n",
       "    }\n",
       "\n",
       "    .dataframe thead th {\n",
       "        text-align: right;\n",
       "    }\n",
       "</style>\n",
       "<table border=\"1\" class=\"dataframe\">\n",
       "  <thead>\n",
       "    <tr style=\"text-align: right;\">\n",
       "      <th></th>\n",
       "      <th>geoid</th>\n",
       "      <th>household_income</th>\n",
       "    </tr>\n",
       "  </thead>\n",
       "  <tbody>\n",
       "    <tr>\n",
       "      <th>36</th>\n",
       "      <td>36047080800</td>\n",
       "      <td>72670.0</td>\n",
       "    </tr>\n",
       "    <tr>\n",
       "      <th>40</th>\n",
       "      <td>36081114100</td>\n",
       "      <td>71410.0</td>\n",
       "    </tr>\n",
       "    <tr>\n",
       "      <th>123</th>\n",
       "      <td>36047000301</td>\n",
       "      <td>65260.0</td>\n",
       "    </tr>\n",
       "    <tr>\n",
       "      <th>129</th>\n",
       "      <td>36047004400</td>\n",
       "      <td>65049.0</td>\n",
       "    </tr>\n",
       "    <tr>\n",
       "      <th>133</th>\n",
       "      <td>36081099705</td>\n",
       "      <td>64885.0</td>\n",
       "    </tr>\n",
       "  </tbody>\n",
       "</table>\n",
       "</div>"
      ],
      "text/plain": [
       "           geoid  household_income\n",
       "36   36047080800           72670.0\n",
       "40   36081114100           71410.0\n",
       "123  36047000301           65260.0\n",
       "129  36047004400           65049.0\n",
       "133  36081099705           64885.0"
      ]
     },
     "execution_count": 2,
     "metadata": {},
     "output_type": "execute_result"
    }
   ],
   "source": [
    "nyc_prefix = {'Queens': '36081', 'Kings': '36047', 'Richmond': '36085', 'Bronx': '36005', 'New York': '36061'}\n",
    "\n",
    "op_df = pd.read_csv('/work/data/opatlas_all_tracts.csv')\n",
    "\n",
    "\n",
    "is_in_nyc = op_df['tract'].astype(str).str.slice(stop=5).isin(nyc_prefix.values())\n",
    "\n",
    "op_df = op_df[is_in_nyc]\n",
    "op_df['tract'] = op_df['tract'].astype(str)\n",
    "\n",
    "rename_map = {\"tract\": \"geoid\", \"Household_Income_rP_gP_p25\": \"household_income\"}\n",
    "op_df = op_df.rename(columns=rename_map)\n",
    "op_df = op_df.drop(columns=['Name'])\n",
    "\n",
    "op_df.head()"
   ]
  },
  {
   "cell_type": "code",
   "execution_count": 3,
   "metadata": {},
   "outputs": [
    {
     "name": "stdout",
     "output_type": "stream",
     "text": [
      "False    2089\n",
      "True       57\n",
      "Name: household_income, dtype: int64\n"
     ]
    }
   ],
   "source": [
    "assert op_df.geoid.is_unique\n",
    "\n",
    "na_income = op_df['household_income'].isna()\n",
    "\n",
    "print(na_income.value_counts())\n",
    "\n",
    "op_df = op_df[~na_income]"
   ]
  },
  {
   "cell_type": "markdown",
   "metadata": {},
   "source": [
    "All of the `geoid`s are unique and there are 57 tracts without household income data."
   ]
  },
  {
   "cell_type": "markdown",
   "metadata": {},
   "source": [
    "# Load in NYC tract geometry"
   ]
  },
  {
   "cell_type": "code",
   "execution_count": 4,
   "metadata": {},
   "outputs": [
    {
     "data": {
      "text/html": [
       "<div>\n",
       "<style scoped>\n",
       "    .dataframe tbody tr th:only-of-type {\n",
       "        vertical-align: middle;\n",
       "    }\n",
       "\n",
       "    .dataframe tbody tr th {\n",
       "        vertical-align: top;\n",
       "    }\n",
       "\n",
       "    .dataframe thead th {\n",
       "        text-align: right;\n",
       "    }\n",
       "</style>\n",
       "<table border=\"1\" class=\"dataframe\">\n",
       "  <thead>\n",
       "    <tr style=\"text-align: right;\">\n",
       "      <th></th>\n",
       "      <th>geoid</th>\n",
       "      <th>geometry</th>\n",
       "    </tr>\n",
       "  </thead>\n",
       "  <tbody>\n",
       "    <tr>\n",
       "      <th>0</th>\n",
       "      <td>36085000900</td>\n",
       "      <td>MULTIPOLYGON (((-74.07921 40.64343, -74.07914 ...</td>\n",
       "    </tr>\n",
       "    <tr>\n",
       "      <th>1</th>\n",
       "      <td>36061009800</td>\n",
       "      <td>MULTIPOLYGON (((-73.96433 40.75638, -73.96479 ...</td>\n",
       "    </tr>\n",
       "    <tr>\n",
       "      <th>2</th>\n",
       "      <td>36061010000</td>\n",
       "      <td>MULTIPOLYGON (((-73.96802 40.75958, -73.96848 ...</td>\n",
       "    </tr>\n",
       "    <tr>\n",
       "      <th>3</th>\n",
       "      <td>36061010200</td>\n",
       "      <td>MULTIPOLYGON (((-73.97124 40.76094, -73.97170 ...</td>\n",
       "    </tr>\n",
       "    <tr>\n",
       "      <th>4</th>\n",
       "      <td>36061010400</td>\n",
       "      <td>MULTIPOLYGON (((-73.97446 40.76229, -73.97491 ...</td>\n",
       "    </tr>\n",
       "  </tbody>\n",
       "</table>\n",
       "</div>"
      ],
      "text/plain": [
       "         geoid                                           geometry\n",
       "0  36085000900  MULTIPOLYGON (((-74.07921 40.64343, -74.07914 ...\n",
       "1  36061009800  MULTIPOLYGON (((-73.96433 40.75638, -73.96479 ...\n",
       "2  36061010000  MULTIPOLYGON (((-73.96802 40.75958, -73.96848 ...\n",
       "3  36061010200  MULTIPOLYGON (((-73.97124 40.76094, -73.97170 ...\n",
       "4  36061010400  MULTIPOLYGON (((-73.97446 40.76229, -73.97491 ..."
      ]
     },
     "execution_count": 4,
     "metadata": {},
     "output_type": "execute_result"
    }
   ],
   "source": [
    "boro_prefix = {'Queens': '36081', 'Brooklyn': '36047', 'Staten Island': '36085', 'Bronx': '36005', 'Manhattan': '36061'}\n",
    "\n",
    "tract_url = 'https://data.cityofnewyork.us/api/geospatial/fxpq-c8ku?method=export&format=GeoJSON'\n",
    "\n",
    "nyc_tracts = gpd.read_file(tract_url)\n",
    "\n",
    "nyc_tracts['boro_tract_prefix'] = nyc_tracts.boro_name.map(boro_prefix)\n",
    "\n",
    "nyc_tracts['geoid'] = nyc_tracts.boro_tract_prefix + nyc_tracts.ct2010\n",
    "\n",
    "nyc_tracts = nyc_tracts[['geoid', 'geometry']]\n",
    "\n",
    "nyc_tracts.head()"
   ]
  },
  {
   "cell_type": "code",
   "execution_count": 5,
   "metadata": {},
   "outputs": [
    {
     "name": "stdout",
     "output_type": "stream",
     "text": [
      "False    2089\n",
      "Name: geometry, dtype: int64\n"
     ]
    }
   ],
   "source": [
    "op_df_geo = op_df.merge(nyc_tracts, how='left', on='geoid')\n",
    "op_df_geo = gpd.GeoDataFrame(op_df_geo)\n",
    "\n",
    "print(op_df_geo['geometry'].isna().value_counts())"
   ]
  },
  {
   "cell_type": "markdown",
   "metadata": {},
   "source": [
    "## Create Rankings"
   ]
  },
  {
   "cell_type": "code",
   "execution_count": 6,
   "metadata": {},
   "outputs": [
    {
     "data": {
      "text/plain": [
       "<matplotlib.axes._subplots.AxesSubplot at 0x7fc467bc3100>"
      ]
     },
     "execution_count": 6,
     "metadata": {},
     "output_type": "execute_result"
    },
    {
     "data": {
      "image/png": "[encoded data removed]",
      "text/plain": [
       "<Figure size 432x288 with 1 Axes>"
      ]
     },
     "metadata": {
      "image/png": {
       "height": 248,
       "width": 388
      },
      "needs_background": "light"
     },
     "output_type": "display_data"
    }
   ],
   "source": [
    "op_df_geo.household_income.plot.hist(bins=20)"
   ]
  },
  {
   "cell_type": "code",
   "execution_count": 7,
   "metadata": {},
   "outputs": [],
   "source": [
    "rankings, retbins = pd.qcut(op_df_geo.household_income, 5, labels=['very low', 'low', 'moderate', 'high', 'very high'], retbins=True)\n",
    "op_df_geo['ranking'] = rankings.astype(str)"
   ]
  },
  {
   "cell_type": "code",
   "execution_count": 8,
   "metadata": {},
   "outputs": [],
   "source": [
    "op_df_geo.to_file(\"/work/data/opatlas_ny.geojson\", driver='GeoJSON')"
   ]
  }
 ],
 "metadata": {
  "kernelspec": {
   "display_name": "Python 3",
   "language": "python",
   "name": "python3"
  },
  "language_info": {
   "codemirror_mode": {
    "name": "ipython",
    "version": 3
   },
   "file_extension": ".py",
   "mimetype": "text/x-python",
   "name": "python",
   "nbconvert_exporter": "python",
   "pygments_lexer": "ipython3",
   "version": "3.8.5"
  }
 },
 "nbformat": 4,
 "nbformat_minor": 4
}
